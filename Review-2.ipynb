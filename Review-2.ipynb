{
 "metadata": {
  "language_info": {
   "codemirror_mode": {
    "name": "ipython",
    "version": 3
   },
   "file_extension": ".py",
   "mimetype": "text/x-python",
   "name": "python",
   "nbconvert_exporter": "python",
   "pygments_lexer": "ipython3",
   "version": "3.8.3-final"
  },
  "orig_nbformat": 2,
  "kernelspec": {
   "name": "python38232bite88b0d917a49417c9d638b33d91a0dc2",
   "display_name": "Python 3.8.2 32-bit",
   "language": "python"
  }
 },
 "nbformat": 4,
 "nbformat_minor": 2,
 "cells": [
  {
   "cell_type": "code",
   "execution_count": null,
   "metadata": {},
   "outputs": [],
   "source": [
    "IBM-Attrition"
   ]
  },
  {
   "source": [
    "https://www.kaggle.com/pavansubhasht/ibm-hr-analytics-attrition-dataset\n",
    "\n",
    "Berikut adalah data fictional dari IBM tentang kemungkinan karyawan untuk keluar.\n",
    "\n",
    "Dari Employee-Attrition.csv, ambilah feature berikut:  \n",
    "['Age','Department','DistanceFromHome','Gender','HourlyRate','JobInvolvement','JobSatisfaction','MaritalStatus','OverTime','PerformanceRating','RelationshipSatisfaction','TotalWorkingYears','YearsSinceLastPromotion','WorkLifeBalance','Attrition']\n",
    "\n",
    "1. Lakukan EDA untuk melihat faktor-faktor apa saja yang mempengaruhi mundurnya karyawan dari perusahaan.\n",
    "\n",
    "2. Buatlah model Machine Learning untuk memprediksi apakah seseorang akan mundur/tidak.  \n",
    ">* Seperti apa proses preprocessing yang anda lakukan? Jelaskan langkah-langkah yang kalian ambil?\n",
    ">* Perhatikan bahwa data anda merupakan data imbalance, apa yang bisa anda lakukan untuk meningkatkan performa model anda?\n",
    ">* Evaluation metric apa yg anda pakai jika anda ingin mencegah peningkatan attrition pada perusahaan anda? Jelaskan alasan anda.\n",
    ">* Pilihlah model Machine Learning yang sesuai dengan data anda. Jangan lupa, lakukan hyperparameter tunning untuk meningkatkan performa model anda. Simpanlah model terbaik anda dengan menggunakan pickle/joblib!"
   ],
   "cell_type": "markdown",
   "metadata": {}
  },
  {
   "cell_type": "code",
   "execution_count": null,
   "metadata": {},
   "outputs": [],
   "source": []
  },
  {
   "cell_type": "code",
   "execution_count": null,
   "metadata": {},
   "outputs": [],
   "source": []
  },
  {
   "cell_type": "code",
   "execution_count": null,
   "metadata": {},
   "outputs": [],
   "source": []
  },
  {
   "cell_type": "code",
   "execution_count": null,
   "metadata": {},
   "outputs": [],
   "source": []
  },
  {
   "cell_type": "code",
   "execution_count": null,
   "metadata": {},
   "outputs": [],
   "source": []
  },
  {
   "cell_type": "code",
   "execution_count": 1,
   "metadata": {},
   "outputs": [],
   "source": [
    "# import library\n",
    "\n",
    "import pandas as pd\n",
    "import numpy as np\n",
    "import seaborn as sns\n",
    "import matplotlib as plt"
   ]
  },
  {
   "cell_type": "code",
   "execution_count": 2,
   "metadata": {},
   "outputs": [],
   "source": [
    "df=pd.read_csv('Employee-Attrition.csv')"
   ]
  },
  {
   "cell_type": "code",
   "execution_count": 5,
   "metadata": {},
   "outputs": [
    {
     "output_type": "execute_result",
     "data": {
      "text/plain": [
       "                                        0                       1  \\\n",
       "Age                                    41                      49   \n",
       "Attrition                             Yes                      No   \n",
       "BusinessTravel              Travel_Rarely       Travel_Frequently   \n",
       "DailyRate                            1102                     279   \n",
       "Department                          Sales  Research & Development   \n",
       "DistanceFromHome                        1                       8   \n",
       "Education                               2                       1   \n",
       "EducationField              Life Sciences           Life Sciences   \n",
       "EmployeeCount                           1                       1   \n",
       "EmployeeNumber                          1                       2   \n",
       "EnvironmentSatisfaction                 2                       3   \n",
       "Gender                             Female                    Male   \n",
       "HourlyRate                             94                      61   \n",
       "JobInvolvement                          3                       2   \n",
       "JobLevel                                2                       2   \n",
       "JobRole                   Sales Executive      Research Scientist   \n",
       "JobSatisfaction                         4                       2   \n",
       "MaritalStatus                      Single                 Married   \n",
       "MonthlyIncome                        5993                    5130   \n",
       "MonthlyRate                         19479                   24907   \n",
       "NumCompaniesWorked                      8                       1   \n",
       "Over18                                  Y                       Y   \n",
       "OverTime                              Yes                      No   \n",
       "PercentSalaryHike                      11                      23   \n",
       "PerformanceRating                       3                       4   \n",
       "RelationshipSatisfaction                1                       4   \n",
       "StandardHours                          80                      80   \n",
       "StockOptionLevel                        0                       1   \n",
       "TotalWorkingYears                       8                      10   \n",
       "TrainingTimesLastYear                   0                       3   \n",
       "WorkLifeBalance                         1                       3   \n",
       "YearsAtCompany                          6                      10   \n",
       "YearsInCurrentRole                      4                       7   \n",
       "YearsSinceLastPromotion                 0                       1   \n",
       "YearsWithCurrManager                    5                       7   \n",
       "\n",
       "                                               2                       3  \\\n",
       "Age                                           37                      33   \n",
       "Attrition                                    Yes                      No   \n",
       "BusinessTravel                     Travel_Rarely       Travel_Frequently   \n",
       "DailyRate                                   1373                    1392   \n",
       "Department                Research & Development  Research & Development   \n",
       "DistanceFromHome                               2                       3   \n",
       "Education                                      2                       4   \n",
       "EducationField                             Other           Life Sciences   \n",
       "EmployeeCount                                  1                       1   \n",
       "EmployeeNumber                                 4                       5   \n",
       "EnvironmentSatisfaction                        4                       4   \n",
       "Gender                                      Male                  Female   \n",
       "HourlyRate                                    92                      56   \n",
       "JobInvolvement                                 2                       3   \n",
       "JobLevel                                       1                       1   \n",
       "JobRole                    Laboratory Technician      Research Scientist   \n",
       "JobSatisfaction                                3                       3   \n",
       "MaritalStatus                             Single                 Married   \n",
       "MonthlyIncome                               2090                    2909   \n",
       "MonthlyRate                                 2396                   23159   \n",
       "NumCompaniesWorked                             6                       1   \n",
       "Over18                                         Y                       Y   \n",
       "OverTime                                     Yes                     Yes   \n",
       "PercentSalaryHike                             15                      11   \n",
       "PerformanceRating                              3                       3   \n",
       "RelationshipSatisfaction                       2                       3   \n",
       "StandardHours                                 80                      80   \n",
       "StockOptionLevel                               0                       0   \n",
       "TotalWorkingYears                              7                       8   \n",
       "TrainingTimesLastYear                          3                       3   \n",
       "WorkLifeBalance                                3                       3   \n",
       "YearsAtCompany                                 0                       8   \n",
       "YearsInCurrentRole                             0                       7   \n",
       "YearsSinceLastPromotion                        0                       3   \n",
       "YearsWithCurrManager                           0                       0   \n",
       "\n",
       "                                               4  \n",
       "Age                                           27  \n",
       "Attrition                                     No  \n",
       "BusinessTravel                     Travel_Rarely  \n",
       "DailyRate                                    591  \n",
       "Department                Research & Development  \n",
       "DistanceFromHome                               2  \n",
       "Education                                      1  \n",
       "EducationField                           Medical  \n",
       "EmployeeCount                                  1  \n",
       "EmployeeNumber                                 7  \n",
       "EnvironmentSatisfaction                        1  \n",
       "Gender                                      Male  \n",
       "HourlyRate                                    40  \n",
       "JobInvolvement                                 3  \n",
       "JobLevel                                       1  \n",
       "JobRole                    Laboratory Technician  \n",
       "JobSatisfaction                                2  \n",
       "MaritalStatus                            Married  \n",
       "MonthlyIncome                               3468  \n",
       "MonthlyRate                                16632  \n",
       "NumCompaniesWorked                             9  \n",
       "Over18                                         Y  \n",
       "OverTime                                      No  \n",
       "PercentSalaryHike                             12  \n",
       "PerformanceRating                              3  \n",
       "RelationshipSatisfaction                       4  \n",
       "StandardHours                                 80  \n",
       "StockOptionLevel                               1  \n",
       "TotalWorkingYears                              6  \n",
       "TrainingTimesLastYear                          3  \n",
       "WorkLifeBalance                                3  \n",
       "YearsAtCompany                                 2  \n",
       "YearsInCurrentRole                             2  \n",
       "YearsSinceLastPromotion                        2  \n",
       "YearsWithCurrManager                           2  "
      ],
      "text/html": "<div>\n<style scoped>\n    .dataframe tbody tr th:only-of-type {\n        vertical-align: middle;\n    }\n\n    .dataframe tbody tr th {\n        vertical-align: top;\n    }\n\n    .dataframe thead th {\n        text-align: right;\n    }\n</style>\n<table border=\"1\" class=\"dataframe\">\n  <thead>\n    <tr style=\"text-align: right;\">\n      <th></th>\n      <th>0</th>\n      <th>1</th>\n      <th>2</th>\n      <th>3</th>\n      <th>4</th>\n    </tr>\n  </thead>\n  <tbody>\n    <tr>\n      <th>Age</th>\n      <td>41</td>\n      <td>49</td>\n      <td>37</td>\n      <td>33</td>\n      <td>27</td>\n    </tr>\n    <tr>\n      <th>Attrition</th>\n      <td>Yes</td>\n      <td>No</td>\n      <td>Yes</td>\n      <td>No</td>\n      <td>No</td>\n    </tr>\n    <tr>\n      <th>BusinessTravel</th>\n      <td>Travel_Rarely</td>\n      <td>Travel_Frequently</td>\n      <td>Travel_Rarely</td>\n      <td>Travel_Frequently</td>\n      <td>Travel_Rarely</td>\n    </tr>\n    <tr>\n      <th>DailyRate</th>\n      <td>1102</td>\n      <td>279</td>\n      <td>1373</td>\n      <td>1392</td>\n      <td>591</td>\n    </tr>\n    <tr>\n      <th>Department</th>\n      <td>Sales</td>\n      <td>Research &amp; Development</td>\n      <td>Research &amp; Development</td>\n      <td>Research &amp; Development</td>\n      <td>Research &amp; Development</td>\n    </tr>\n    <tr>\n      <th>DistanceFromHome</th>\n      <td>1</td>\n      <td>8</td>\n      <td>2</td>\n      <td>3</td>\n      <td>2</td>\n    </tr>\n    <tr>\n      <th>Education</th>\n      <td>2</td>\n      <td>1</td>\n      <td>2</td>\n      <td>4</td>\n      <td>1</td>\n    </tr>\n    <tr>\n      <th>EducationField</th>\n      <td>Life Sciences</td>\n      <td>Life Sciences</td>\n      <td>Other</td>\n      <td>Life Sciences</td>\n      <td>Medical</td>\n    </tr>\n    <tr>\n      <th>EmployeeCount</th>\n      <td>1</td>\n      <td>1</td>\n      <td>1</td>\n      <td>1</td>\n      <td>1</td>\n    </tr>\n    <tr>\n      <th>EmployeeNumber</th>\n      <td>1</td>\n      <td>2</td>\n      <td>4</td>\n      <td>5</td>\n      <td>7</td>\n    </tr>\n    <tr>\n      <th>EnvironmentSatisfaction</th>\n      <td>2</td>\n      <td>3</td>\n      <td>4</td>\n      <td>4</td>\n      <td>1</td>\n    </tr>\n    <tr>\n      <th>Gender</th>\n      <td>Female</td>\n      <td>Male</td>\n      <td>Male</td>\n      <td>Female</td>\n      <td>Male</td>\n    </tr>\n    <tr>\n      <th>HourlyRate</th>\n      <td>94</td>\n      <td>61</td>\n      <td>92</td>\n      <td>56</td>\n      <td>40</td>\n    </tr>\n    <tr>\n      <th>JobInvolvement</th>\n      <td>3</td>\n      <td>2</td>\n      <td>2</td>\n      <td>3</td>\n      <td>3</td>\n    </tr>\n    <tr>\n      <th>JobLevel</th>\n      <td>2</td>\n      <td>2</td>\n      <td>1</td>\n      <td>1</td>\n      <td>1</td>\n    </tr>\n    <tr>\n      <th>JobRole</th>\n      <td>Sales Executive</td>\n      <td>Research Scientist</td>\n      <td>Laboratory Technician</td>\n      <td>Research Scientist</td>\n      <td>Laboratory Technician</td>\n    </tr>\n    <tr>\n      <th>JobSatisfaction</th>\n      <td>4</td>\n      <td>2</td>\n      <td>3</td>\n      <td>3</td>\n      <td>2</td>\n    </tr>\n    <tr>\n      <th>MaritalStatus</th>\n      <td>Single</td>\n      <td>Married</td>\n      <td>Single</td>\n      <td>Married</td>\n      <td>Married</td>\n    </tr>\n    <tr>\n      <th>MonthlyIncome</th>\n      <td>5993</td>\n      <td>5130</td>\n      <td>2090</td>\n      <td>2909</td>\n      <td>3468</td>\n    </tr>\n    <tr>\n      <th>MonthlyRate</th>\n      <td>19479</td>\n      <td>24907</td>\n      <td>2396</td>\n      <td>23159</td>\n      <td>16632</td>\n    </tr>\n    <tr>\n      <th>NumCompaniesWorked</th>\n      <td>8</td>\n      <td>1</td>\n      <td>6</td>\n      <td>1</td>\n      <td>9</td>\n    </tr>\n    <tr>\n      <th>Over18</th>\n      <td>Y</td>\n      <td>Y</td>\n      <td>Y</td>\n      <td>Y</td>\n      <td>Y</td>\n    </tr>\n    <tr>\n      <th>OverTime</th>\n      <td>Yes</td>\n      <td>No</td>\n      <td>Yes</td>\n      <td>Yes</td>\n      <td>No</td>\n    </tr>\n    <tr>\n      <th>PercentSalaryHike</th>\n      <td>11</td>\n      <td>23</td>\n      <td>15</td>\n      <td>11</td>\n      <td>12</td>\n    </tr>\n    <tr>\n      <th>PerformanceRating</th>\n      <td>3</td>\n      <td>4</td>\n      <td>3</td>\n      <td>3</td>\n      <td>3</td>\n    </tr>\n    <tr>\n      <th>RelationshipSatisfaction</th>\n      <td>1</td>\n      <td>4</td>\n      <td>2</td>\n      <td>3</td>\n      <td>4</td>\n    </tr>\n    <tr>\n      <th>StandardHours</th>\n      <td>80</td>\n      <td>80</td>\n      <td>80</td>\n      <td>80</td>\n      <td>80</td>\n    </tr>\n    <tr>\n      <th>StockOptionLevel</th>\n      <td>0</td>\n      <td>1</td>\n      <td>0</td>\n      <td>0</td>\n      <td>1</td>\n    </tr>\n    <tr>\n      <th>TotalWorkingYears</th>\n      <td>8</td>\n      <td>10</td>\n      <td>7</td>\n      <td>8</td>\n      <td>6</td>\n    </tr>\n    <tr>\n      <th>TrainingTimesLastYear</th>\n      <td>0</td>\n      <td>3</td>\n      <td>3</td>\n      <td>3</td>\n      <td>3</td>\n    </tr>\n    <tr>\n      <th>WorkLifeBalance</th>\n      <td>1</td>\n      <td>3</td>\n      <td>3</td>\n      <td>3</td>\n      <td>3</td>\n    </tr>\n    <tr>\n      <th>YearsAtCompany</th>\n      <td>6</td>\n      <td>10</td>\n      <td>0</td>\n      <td>8</td>\n      <td>2</td>\n    </tr>\n    <tr>\n      <th>YearsInCurrentRole</th>\n      <td>4</td>\n      <td>7</td>\n      <td>0</td>\n      <td>7</td>\n      <td>2</td>\n    </tr>\n    <tr>\n      <th>YearsSinceLastPromotion</th>\n      <td>0</td>\n      <td>1</td>\n      <td>0</td>\n      <td>3</td>\n      <td>2</td>\n    </tr>\n    <tr>\n      <th>YearsWithCurrManager</th>\n      <td>5</td>\n      <td>7</td>\n      <td>0</td>\n      <td>0</td>\n      <td>2</td>\n    </tr>\n  </tbody>\n</table>\n</div>"
     },
     "metadata": {},
     "execution_count": 5
    }
   ],
   "source": [
    "df.head().T"
   ]
  },
  {
   "cell_type": "code",
   "execution_count": 4,
   "metadata": {},
   "outputs": [
    {
     "output_type": "stream",
     "name": "stdout",
     "text": [
      "<class 'pandas.core.frame.DataFrame'>\nRangeIndex: 1470 entries, 0 to 1469\nData columns (total 35 columns):\n #   Column                    Non-Null Count  Dtype \n---  ------                    --------------  ----- \n 0   Age                       1470 non-null   int64 \n 1   Attrition                 1470 non-null   object\n 2   BusinessTravel            1470 non-null   object\n 3   DailyRate                 1470 non-null   int64 \n 4   Department                1470 non-null   object\n 5   DistanceFromHome          1470 non-null   int64 \n 6   Education                 1470 non-null   int64 \n 7   EducationField            1470 non-null   object\n 8   EmployeeCount             1470 non-null   int64 \n 9   EmployeeNumber            1470 non-null   int64 \n 10  EnvironmentSatisfaction   1470 non-null   int64 \n 11  Gender                    1470 non-null   object\n 12  HourlyRate                1470 non-null   int64 \n 13  JobInvolvement            1470 non-null   int64 \n 14  JobLevel                  1470 non-null   int64 \n 15  JobRole                   1470 non-null   object\n 16  JobSatisfaction           1470 non-null   int64 \n 17  MaritalStatus             1470 non-null   object\n 18  MonthlyIncome             1470 non-null   int64 \n 19  MonthlyRate               1470 non-null   int64 \n 20  NumCompaniesWorked        1470 non-null   int64 \n 21  Over18                    1470 non-null   object\n 22  OverTime                  1470 non-null   object\n 23  PercentSalaryHike         1470 non-null   int64 \n 24  PerformanceRating         1470 non-null   int64 \n 25  RelationshipSatisfaction  1470 non-null   int64 \n 26  StandardHours             1470 non-null   int64 \n 27  StockOptionLevel          1470 non-null   int64 \n 28  TotalWorkingYears         1470 non-null   int64 \n 29  TrainingTimesLastYear     1470 non-null   int64 \n 30  WorkLifeBalance           1470 non-null   int64 \n 31  YearsAtCompany            1470 non-null   int64 \n 32  YearsInCurrentRole        1470 non-null   int64 \n 33  YearsSinceLastPromotion   1470 non-null   int64 \n 34  YearsWithCurrManager      1470 non-null   int64 \ndtypes: int64(26), object(9)\nmemory usage: 402.1+ KB\n"
     ]
    }
   ],
   "source": [
    "df.info()"
   ]
  },
  {
   "cell_type": "code",
   "execution_count": 9,
   "metadata": {},
   "outputs": [],
   "source": [
    "df=df[['Age','Department','DistanceFromHome','Gender','HourlyRate','JobInvolvement','JobSatisfaction','MaritalStatus','OverTime','PerformanceRating','RelationshipSatisfaction','TotalWorkingYears','YearsSinceLastPromotion','WorkLifeBalance','Attrition']]"
   ]
  },
  {
   "cell_type": "code",
   "execution_count": 10,
   "metadata": {},
   "outputs": [
    {
     "output_type": "stream",
     "name": "stdout",
     "text": [
      "<class 'pandas.core.frame.DataFrame'>\nRangeIndex: 1470 entries, 0 to 1469\nData columns (total 15 columns):\n #   Column                    Non-Null Count  Dtype \n---  ------                    --------------  ----- \n 0   Age                       1470 non-null   int64 \n 1   Department                1470 non-null   object\n 2   DistanceFromHome          1470 non-null   int64 \n 3   Gender                    1470 non-null   object\n 4   HourlyRate                1470 non-null   int64 \n 5   JobInvolvement            1470 non-null   int64 \n 6   JobSatisfaction           1470 non-null   int64 \n 7   MaritalStatus             1470 non-null   object\n 8   OverTime                  1470 non-null   object\n 9   PerformanceRating         1470 non-null   int64 \n 10  RelationshipSatisfaction  1470 non-null   int64 \n 11  TotalWorkingYears         1470 non-null   int64 \n 12  YearsSinceLastPromotion   1470 non-null   int64 \n 13  WorkLifeBalance           1470 non-null   int64 \n 14  Attrition                 1470 non-null   object\ndtypes: int64(10), object(5)\nmemory usage: 172.4+ KB\n"
     ]
    }
   ],
   "source": [
    "df.info()"
   ]
  },
  {
   "cell_type": "code",
   "execution_count": 13,
   "metadata": {},
   "outputs": [
    {
     "output_type": "execute_result",
     "data": {
      "text/plain": [
       "Research & Development    961\n",
       "Sales                     446\n",
       "Human Resources            63\n",
       "Name: Department, dtype: int64"
      ]
     },
     "metadata": {},
     "execution_count": 13
    }
   ],
   "source": [
    "df['Department'].value_counts()"
   ]
  },
  {
   "cell_type": "code",
   "execution_count": 17,
   "metadata": {},
   "outputs": [
    {
     "output_type": "execute_result",
     "data": {
      "text/plain": [
       "No     1233\n",
       "Yes     237\n",
       "Name: Attrition, dtype: int64"
      ]
     },
     "metadata": {},
     "execution_count": 17
    }
   ],
   "source": [
    "df['Attrition'].value_counts()"
   ]
  },
  {
   "cell_type": "code",
   "execution_count": null,
   "metadata": {},
   "outputs": [],
   "source": [
    "Preprocess"
   ]
  },
  {
   "cell_type": "code",
   "execution_count": 14,
   "metadata": {},
   "outputs": [],
   "source": [
    "# library untuk preprocessing\n",
    "\n",
    "from sklearn.preprocessing import OneHotEncoder\n",
    "from sklearn.impute import SimpleImputer\n",
    "from sklearn.compose import ColumnTransformer\n",
    "from sklearn.pipeline import Pipeline"
   ]
  },
  {
   "cell_type": "code",
   "execution_count": 15,
   "metadata": {},
   "outputs": [],
   "source": [
    "transformer= ColumnTransformer([('one_hot',OneHotEncoder(drop='first'),['Department','Gender','MaritalStatus','OverTime']),\n",
    "], remainder='passthrough')"
   ]
  },
  {
   "cell_type": "code",
   "execution_count": null,
   "metadata": {},
   "outputs": [],
   "source": [
    "Splitting data"
   ]
  },
  {
   "cell_type": "code",
   "execution_count": 24,
   "metadata": {},
   "outputs": [],
   "source": [
    "from sklearn.model_selection import train_test_split"
   ]
  },
  {
   "cell_type": "code",
   "execution_count": 25,
   "metadata": {},
   "outputs": [],
   "source": [
    "X=df.drop('Attrition',axis=1)\n",
    "y=[1 if i=='Yes' else 0 for i in df['Attrition']]"
   ]
  },
  {
   "cell_type": "code",
   "execution_count": 26,
   "metadata": {},
   "outputs": [],
   "source": [
    "X_train, X_test, y_train, y_test= train_test_split(X,y,\n",
    "    test_size=.2,\n",
    "    stratify=y,\n",
    "    random_state=2020)"
   ]
  },
  {
   "cell_type": "code",
   "execution_count": 27,
   "metadata": {},
   "outputs": [],
   "source": [
    "# benchmark"
   ]
  },
  {
   "cell_type": "code",
   "execution_count": 48,
   "metadata": {},
   "outputs": [],
   "source": [
    "from sklearn.linear_model import LogisticRegression\n",
    "from sklearn.neighbors import KNeighborsClassifier\n",
    "from sklearn.tree import DecisionTreeClassifier\n",
    "from sklearn.ensemble import RandomForestClassifier\n",
    "\n",
    "from sklearn.metrics import f1_score, classification_report,recall_score\n",
    "from sklearn.model_selection import StratifiedKFold, cross_val_score"
   ]
  },
  {
   "cell_type": "code",
   "execution_count": 52,
   "metadata": {},
   "outputs": [],
   "source": [
    "def evaluate(df,model):\n",
    "\n",
    "    model_name=[]\n",
    "    recall_score=[]\n",
    "    recall_std=[]\n",
    "    for name, model in model:\n",
    "        model = model\n",
    "        estimator = Pipeline([\n",
    "            ('preprocess', transformer),\n",
    "            ('model', model)])\n",
    "\n",
    "        skfold=StratifiedKFold(n_splits=5)\n",
    "        score= cross_val_score(estimator,X_train,y_train,scoring='recall',cv=skfold).mean()\n",
    "        std= cross_val_score(estimator,X_train,y_train,scoring='recall',cv=skfold).std()\n",
    "        recall_score.append(score)\n",
    "        recall_std.append(std)\n",
    "        model_name.append(name)\n",
    "\n",
    "    return pd.DataFrame({'Name': model_name,'recall_score':recall_score, 'recall_std':recall_std})"
   ]
  },
  {
   "cell_type": "code",
   "execution_count": 53,
   "metadata": {},
   "outputs": [],
   "source": [
    "models = [\n",
    "    ['Log Regression', LogisticRegression()],\n",
    "    ['DecisionTree', DecisionTreeClassifier()],\n",
    "    ['RandomForest', RandomForestClassifier()],\n",
    "    ['KNeighbours', KNeighborsClassifier(n_neighbors = 2)]]"
   ]
  },
  {
   "cell_type": "code",
   "execution_count": 54,
   "metadata": {},
   "outputs": [
    {
     "output_type": "execute_result",
     "data": {
      "text/plain": [
       "             Name  recall_score  recall_std\n",
       "0  Log Regression      0.236842    0.094150\n",
       "1    DecisionTree      0.368421    0.089008\n",
       "2    RandomForest      0.178947    0.052632\n",
       "3     KNeighbours      0.026316    0.016644"
      ],
      "text/html": "<div>\n<style scoped>\n    .dataframe tbody tr th:only-of-type {\n        vertical-align: middle;\n    }\n\n    .dataframe tbody tr th {\n        vertical-align: top;\n    }\n\n    .dataframe thead th {\n        text-align: right;\n    }\n</style>\n<table border=\"1\" class=\"dataframe\">\n  <thead>\n    <tr style=\"text-align: right;\">\n      <th></th>\n      <th>Name</th>\n      <th>recall_score</th>\n      <th>recall_std</th>\n    </tr>\n  </thead>\n  <tbody>\n    <tr>\n      <th>0</th>\n      <td>Log Regression</td>\n      <td>0.236842</td>\n      <td>0.094150</td>\n    </tr>\n    <tr>\n      <th>1</th>\n      <td>DecisionTree</td>\n      <td>0.368421</td>\n      <td>0.089008</td>\n    </tr>\n    <tr>\n      <th>2</th>\n      <td>RandomForest</td>\n      <td>0.178947</td>\n      <td>0.052632</td>\n    </tr>\n    <tr>\n      <th>3</th>\n      <td>KNeighbours</td>\n      <td>0.026316</td>\n      <td>0.016644</td>\n    </tr>\n  </tbody>\n</table>\n</div>"
     },
     "metadata": {},
     "execution_count": 54
    }
   ],
   "source": [
    "evaluate(df,models)"
   ]
  },
  {
   "cell_type": "code",
   "execution_count": 55,
   "metadata": {},
   "outputs": [
    {
     "output_type": "execute_result",
     "data": {
      "text/plain": [
       "0.2765957446808511"
      ]
     },
     "metadata": {},
     "execution_count": 55
    }
   ],
   "source": [
    "model=DecisionTreeClassifier()\n",
    "\n",
    "estimator = Pipeline([\n",
    "    ('preprocess', transformer),\n",
    "    ('model', model)])\n",
    "\n",
    "estimator.fit(X_train,y_train)\n",
    "recall_score(y_test,estimator.predict(X_test))"
   ]
  },
  {
   "cell_type": "code",
   "execution_count": 34,
   "metadata": {},
   "outputs": [],
   "source": [
    "from imblearn.over_sampling import SMOTE, RandomOverSampler\n",
    "from imblearn.under_sampling import NearMiss, RandomUnderSampler\n",
    "from imblearn.pipeline import Pipeline\n",
    "from sklearn.model_selection import GridSearchCV"
   ]
  },
  {
   "cell_type": "code",
   "execution_count": 58,
   "metadata": {},
   "outputs": [],
   "source": [
    "model=DecisionTreeClassifier()\n",
    "under=NearMiss()\n",
    "over=SMOTE()\n",
    "\n",
    "estimator = Pipeline([\n",
    "    ('preprocess', transformer), ('balance', under),\n",
    "    ('model', model)])\n",
    "\n",
    "skfold=StratifiedKFold(n_splits=5)"
   ]
  },
  {
   "cell_type": "code",
   "execution_count": 59,
   "metadata": {},
   "outputs": [],
   "source": [
    "hyperparam_space={'balance':[over,under]}"
   ]
  },
  {
   "cell_type": "code",
   "execution_count": 60,
   "metadata": {},
   "outputs": [],
   "source": [
    "grid_search= GridSearchCV(estimator,\n",
    "    param_grid= hyperparam_space,\n",
    "    cv=skfold,\n",
    "    n_jobs=-1,\n",
    "    scoring='recall')"
   ]
  },
  {
   "cell_type": "code",
   "execution_count": 61,
   "metadata": {},
   "outputs": [
    {
     "output_type": "execute_result",
     "data": {
      "text/plain": [
       "GridSearchCV(cv=StratifiedKFold(n_splits=5, random_state=None, shuffle=False),\n",
       "             estimator=Pipeline(steps=[('preprocess',\n",
       "                                        ColumnTransformer(remainder='passthrough',\n",
       "                                                          transformers=[('one_hot',\n",
       "                                                                         OneHotEncoder(drop='first'),\n",
       "                                                                         ['Department',\n",
       "                                                                          'Gender',\n",
       "                                                                          'MaritalStatus',\n",
       "                                                                          'OverTime'])])),\n",
       "                                       ('balance', NearMiss()),\n",
       "                                       ('model', DecisionTreeClassifier())]),\n",
       "             n_jobs=-1, param_grid={'balance': [SMOTE(), NearMiss()]},\n",
       "             scoring='recall')"
      ]
     },
     "metadata": {},
     "execution_count": 61
    }
   ],
   "source": [
    "grid_search.fit(X_train,y_train)"
   ]
  },
  {
   "cell_type": "code",
   "execution_count": 62,
   "metadata": {},
   "outputs": [
    {
     "output_type": "execute_result",
     "data": {
      "text/plain": [
       "0.6631578947368421"
      ]
     },
     "metadata": {},
     "execution_count": 62
    }
   ],
   "source": [
    "grid_search.best_score_"
   ]
  },
  {
   "cell_type": "code",
   "execution_count": 64,
   "metadata": {},
   "outputs": [
    {
     "output_type": "execute_result",
     "data": {
      "text/plain": [
       "{'balance': NearMiss()}"
      ]
     },
     "metadata": {},
     "execution_count": 64
    }
   ],
   "source": [
    "grid_search.best_params_"
   ]
  },
  {
   "cell_type": "code",
   "execution_count": 65,
   "metadata": {},
   "outputs": [
    {
     "output_type": "execute_result",
     "data": {
      "text/plain": [
       "0.7021276595744681"
      ]
     },
     "metadata": {},
     "execution_count": 65
    }
   ],
   "source": [
    "grid_search.best_estimator_.fit(X_train,y_train)\n",
    "recall_score(y_test,grid_search.best_estimator_.predict(X_test))\n"
   ]
  },
  {
   "cell_type": "code",
   "execution_count": 67,
   "metadata": {},
   "outputs": [
    {
     "output_type": "stream",
     "name": "stdout",
     "text": [
      "              precision    recall  f1-score   support\n\n           0       0.89      0.44      0.59       247\n           1       0.19      0.70      0.30        47\n\n    accuracy                           0.48       294\n   macro avg       0.54      0.57      0.45       294\nweighted avg       0.78      0.48      0.54       294\n\n"
     ]
    }
   ],
   "source": [
    "print(classification_report(y_test,grid_search.best_estimator_.predict(X_test)))"
   ]
  },
  {
   "cell_type": "code",
   "execution_count": 68,
   "metadata": {},
   "outputs": [],
   "source": [
    "# Tunnning"
   ]
  },
  {
   "cell_type": "code",
   "execution_count": 74,
   "metadata": {},
   "outputs": [],
   "source": [
    "hyperparam_space = {\n",
    "        'balance__n_neighbors': [2, 5, 10, 15, 20],\n",
    "        'model__min_samples_leaf' : [1,5,10,15,20,50],\n",
    "        'model__min_samples_split' : [2,5,10,15,20,50],\n",
    "        'model__max_depth' : [2,3,4,5,6,7],\n",
    "        'model__criterion' : ['entropy','gini']}"
   ]
  },
  {
   "cell_type": "code",
   "execution_count": 75,
   "metadata": {},
   "outputs": [
    {
     "output_type": "execute_result",
     "data": {
      "text/plain": [
       "GridSearchCV(cv=StratifiedKFold(n_splits=5, random_state=None, shuffle=False),\n",
       "             estimator=Pipeline(steps=[('preprocess',\n",
       "                                        ColumnTransformer(remainder='passthrough',\n",
       "                                                          transformers=[('one_hot',\n",
       "                                                                         OneHotEncoder(drop='first'),\n",
       "                                                                         ['Department',\n",
       "                                                                          'Gender',\n",
       "                                                                          'MaritalStatus',\n",
       "                                                                          'OverTime'])])),\n",
       "                                       ('balance', NearMiss()),\n",
       "                                       ('model', DecisionTreeClassifier())]),\n",
       "             n_jobs=-1,\n",
       "             param_grid={'balance__n_neighbors': [2, 5, 10, 15, 20],\n",
       "                         'model__criterion': ['entropy', 'gini'],\n",
       "                         'model__max_depth': [2, 3, 4, 5, 6, 7],\n",
       "                         'model__min_samples_leaf': [1, 5, 10, 15, 20, 50],\n",
       "                         'model__min_samples_split': [2, 5, 10, 15, 20, 50]},\n",
       "             scoring='recall')"
      ]
     },
     "metadata": {},
     "execution_count": 75
    }
   ],
   "source": [
    "estimator = Pipeline([\n",
    "    ('preprocess', transformer), ('balance', under),\n",
    "    ('model', model)])\n",
    "skfold= StratifiedKFold(n_splits=5)\n",
    "\n",
    "grid= GridSearchCV(estimator,param_grid=hyperparam_space,cv=skfold,scoring='recall',n_jobs=-1)\n",
    "grid.fit(X_train,y_train)"
   ]
  },
  {
   "cell_type": "code",
   "execution_count": 78,
   "metadata": {},
   "outputs": [
    {
     "output_type": "execute_result",
     "data": {
      "text/plain": [
       "0.7659574468085106"
      ]
     },
     "metadata": {},
     "execution_count": 78
    }
   ],
   "source": [
    "grid.best_estimator_.fit(X_train,y_train)\n",
    "recall_score(y_test,grid_search.best_estimator_.predict(X_test))"
   ]
  },
  {
   "cell_type": "code",
   "execution_count": 79,
   "metadata": {},
   "outputs": [
    {
     "output_type": "stream",
     "name": "stdout",
     "text": [
      "              precision    recall  f1-score   support\n\n           0       0.92      0.27      0.41       247\n           1       0.18      0.87      0.30        47\n\n    accuracy                           0.36       294\n   macro avg       0.55      0.57      0.36       294\nweighted avg       0.80      0.36      0.40       294\n\n"
     ]
    }
   ],
   "source": [
    "print(classification_report(y_test,grid.best_estimator_.predict(X_test)))"
   ]
  },
  {
   "cell_type": "code",
   "execution_count": 80,
   "metadata": {},
   "outputs": [
    {
     "output_type": "execute_result",
     "data": {
      "text/plain": [
       "{'balance__n_neighbors': 15,\n",
       " 'model__criterion': 'entropy',\n",
       " 'model__max_depth': 7,\n",
       " 'model__min_samples_leaf': 15,\n",
       " 'model__min_samples_split': 2}"
      ]
     },
     "metadata": {},
     "execution_count": 80
    }
   ],
   "source": [
    "grid.best_params_"
   ]
  },
  {
   "cell_type": "code",
   "execution_count": null,
   "metadata": {},
   "outputs": [],
   "source": [
    "Best model"
   ]
  }
 ]
}